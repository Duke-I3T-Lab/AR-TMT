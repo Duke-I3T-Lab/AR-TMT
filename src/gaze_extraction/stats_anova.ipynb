{
 "cells": [
  {
   "cell_type": "code",
   "execution_count": 1,
   "metadata": {},
   "outputs": [
    {
     "name": "stdout",
     "output_type": "stream",
     "text": [
      "     UserID   ACS Trial_Type  MotorSkill  CompletionTime  DistractorHits  \\\n",
      "0         1  40.0    Neutral    1.091114       69.631836               0   \n",
      "1         1  40.0      TMT-A    1.091114       87.116580               0   \n",
      "2         1  40.0      TMT-B    1.091114      268.215500               0   \n",
      "3         1  40.0  bottom-up    1.091114       55.675660               0   \n",
      "4         1  40.0    spatial    1.091114      139.242920               0   \n",
      "..      ...   ...        ...         ...             ...             ...   \n",
      "109      19  34.0      TMT-A    1.017446       66.900420               0   \n",
      "110      19  34.0      TMT-B    1.017446      194.013153               0   \n",
      "111      19  34.0  bottom-up    1.017446       67.261720               0   \n",
      "112      19  34.0    spatial    1.017446      132.479000               0   \n",
      "113      19  34.0   top-down    1.017446      114.345520               1   \n",
      "\n",
      "     MissHits  WrongHits       MFD        FR       PFT         MSV  \\\n",
      "0           5          5  0.206625  2.719501  0.561918  135.444496   \n",
      "1           2          5  0.249588  2.543007  0.634703  135.614638   \n",
      "2           1          4  0.200744  2.692644  0.540532  136.892581   \n",
      "3           2          0  0.191491  2.738245  0.524348  144.207062   \n",
      "4           4          2  0.239254  2.667144  0.638125  127.092380   \n",
      "..        ...        ...       ...       ...       ...         ...   \n",
      "109         3          0  0.228279  2.246148  0.512748  152.983575   \n",
      "110         4          1  0.170661  2.985551  0.509517  159.038801   \n",
      "111         4          0  0.164111  2.887034  0.473795  140.428846   \n",
      "112        40          0  0.247889  2.433605  0.603264  156.099236   \n",
      "113         3          0  0.158449  3.161700  0.500968  130.713341   \n",
      "\n",
      "           MPSV        MSA        BR            MD  \n",
      "0    257.429990  17.641074  0.215833  1.529452e-01  \n",
      "1    242.551713  15.794844  0.230136  6.575866e-16  \n",
      "2    244.438715  15.404603  0.471617 -1.116638e-01  \n",
      "3    270.492796  16.981585  0.342281  7.311115e-02  \n",
      "4    229.133801  15.581999  0.194105 -1.791354e-01  \n",
      "..          ...        ...       ...           ...  \n",
      "109  297.077819  18.738265  0.404307 -5.348777e-17  \n",
      "110  286.336188  17.742606  0.443450  1.103670e-01  \n",
      "111  259.022859  15.486916  0.327396  1.599208e-01  \n",
      "112  277.528862  16.849021  0.309869 -1.876082e-01  \n",
      "113  240.763832  14.765514  0.280261  1.961652e-01  \n",
      "\n",
      "[114 rows x 16 columns]\n",
      "Threshold for ACS: 37.0\n"
     ]
    }
   ],
   "source": [
    "import pandas as pd\n",
    "import pingouin as pg\n",
    "import matplotlib.pyplot as plt\n",
    "import seaborn as sns\n",
    "import numpy as np\n",
    "\n",
    "_TA = \"TMT-A\"\n",
    "_TB = \"TMT-B\"\n",
    "_N = \"Neutral\"\n",
    "_T = \"top-down\"\n",
    "_B = \"bottom-up\"\n",
    "_S = \"spatial\"\n",
    "\n",
    "DISCARD_SET = {0}\n",
    "PARTICIPANTS = list(set(list(range(1, 20))) - DISCARD_SET)\n",
    "\n",
    "\n",
    "def group_by_acs(df, threshold=None):\n",
    "    \"\"\"\n",
    "    Given a  dataframe with a column \"ACS\", depending on the given threshold split them into two groups and change the column to \"Good\" and \"Poor\". If threshold is None, use the median of the ACS column.\n",
    "    \"\"\"\n",
    "    copy_df = df.copy()\n",
    "    if threshold is None:\n",
    "        threshold = df[\"ACS\"].median()\n",
    "    copy_df[\"ACS\"] = df[\"ACS\"].apply(lambda x: \"Good\" if x < threshold else \"Poor\")\n",
    "    print(f\"Threshold for ACS: {threshold}\")\n",
    "    return copy_df\n",
    "\n",
    "\n",
    "def test_attr(df, attr, attr_values, metric, test_type='between', group=None):\n",
    "    query1 = f'{attr} == \"{attr_values[0]}\"'\n",
    "    query2 = f'{attr} == \"{attr_values[1]}\"'\n",
    "    if group is not None:\n",
    "        query1 += f' and {group[0]} == \"{group[1]}\"'\n",
    "        query2 += f' and {group[0]} == \"{group[1]}\"'\n",
    "\n",
    "    mean1 = df.query(query1)[metric].mean()\n",
    "    mean2 = df.query(query2)[metric].mean()\n",
    "    print(f\"Mean for Query 1: {mean1:.3f}\")\n",
    "    print(f\"Mean for Query 2: {mean2:.3f}\")\n",
    "    # res = pg.mwu(df.query(query1)[metric], df.query(query2)[metric])\n",
    "    # Remove outliers using IQR method\n",
    "\n",
    "    def filter_outliers_and_test(data1, data2, paired=False):\n",
    "        \"\"\"\n",
    "        Filter outliers using IQR method and perform t-test\n",
    "        \n",
    "        Parameters:\n",
    "        -----------\n",
    "        data1 : pandas Series\n",
    "            First data group\n",
    "        data2 : pandas Series\n",
    "            Second data group\n",
    "        paired : bool, default=False\n",
    "            Whether to perform paired t-test\n",
    "            \n",
    "        Returns:\n",
    "        --------\n",
    "        res : pandas DataFrame\n",
    "            t-test result\n",
    "        \"\"\"\n",
    "        # Calculate IQR for both groups\n",
    "        Q1_1, Q3_1 = data1.quantile(0.25), data1.quantile(0.75)\n",
    "        IQR_1 = Q3_1 - Q1_1\n",
    "        Q1_2, Q3_2 = data2.quantile(0.25), data2.quantile(0.75)\n",
    "        IQR_2 = Q3_2 - Q1_2\n",
    "        \n",
    "        # Filter outliers\n",
    "        filtered_data1 = data1[(data1 >= Q1_1 - 1.5 * IQR_1) & (data1 <= Q3_1 + 1.5 * IQR_1)]\n",
    "        filtered_data2 = data2[(data2 >= Q1_2 - 1.5 * IQR_2) & (data2 <= Q3_2 + 1.5 * IQR_2)]\n",
    "        print(\"type 1 count: \", len(filtered_data1))\n",
    "        print(\"type 2 count: \", len(filtered_data2))\n",
    "        \n",
    "        # Perform t-test on filtered data\n",
    "        return pg.ttest(filtered_data1, filtered_data2, paired=paired)\n",
    "\n",
    "    data1 = df.query(query1)[metric]\n",
    "    data2 = df.query(query2)[metric]\n",
    "    normality1 = pg.normality(data1)\n",
    "    normality2 = pg.normality(data2)\n",
    "    \n",
    "    if test_type == 'between':\n",
    "        if normality1['normal'][0] and normality2['normal'][0]:\n",
    "            print(\"Normality test passed.\")\n",
    "            res = filter_outliers_and_test(data1, data2, paired=False)\n",
    "        else:\n",
    "            res = pg.mwu(df.query(query1)[metric], df.query(query2)[metric])\n",
    "    elif test_type == 'within':\n",
    "        if normality1['normal'][0] and normality2['normal'][0]:\n",
    "            print(\"Normality test passed.\")\n",
    "            res = filter_outliers_and_test(data1, data2, paired=True)\n",
    "        else:\n",
    "            res = pg.mwu(df.query(query1)[metric], df.query(query2)[metric])\n",
    "    print(res)\n",
    "    \n",
    "    if res['p-val'].values[0] < 0.05:\n",
    "        print(f\"Significant detected!\")\n",
    "    else:\n",
    "        print(f\"No significant difference detected.\")\n",
    "\n",
    "def test_attr_corr(df, attr, metric, trial_type=_T):\n",
    "    data1 = df[df[\"Trial_Type\"] == trial_type][attr]\n",
    "    data2 = df[df[\"Trial_Type\"] == trial_type][metric]\n",
    "    print(f\"Correlation between {attr} and {metric} for {trial_type}:\")\n",
    "    res = pg.corr(data1, data2)\n",
    "    print(res)\n",
    "\n",
    "\n",
    "ALL_RESULT_DF_NUM = pd.read_csv(\"results/artmt/artmt_gaze_metrics.csv\")\n",
    "print(ALL_RESULT_DF_NUM)\n",
    "ALL_RESULT_DF = group_by_acs(ALL_RESULT_DF_NUM)\n",
    "\n"
   ]
  },
  {
   "cell_type": "code",
   "execution_count": 35,
   "metadata": {},
   "outputs": [
    {
     "name": "stdout",
     "output_type": "stream",
     "text": [
      "Mean for Query 1: 142.617\n",
      "Mean for Query 2: 136.977\n",
      "Normality test passed.\n",
      "type 1 count:  19\n",
      "type 2 count:  19\n",
      "               T  dof alternative     p-val          CI95%   cohen-d   BF10  \\\n",
      "T-test  1.891056   18   two-sided  0.074823  [-0.63, 11.9]  0.450568  1.037   \n",
      "\n",
      "           power  \n",
      "T-test  0.459847  \n",
      "No significant difference detected.\n"
     ]
    }
   ],
   "source": [
    "# test for MFD in TMT-A and TMT-B\n",
    "\n",
    "test_attr(ALL_RESULT_DF, attr=\"Trial_Type\", attr_values=[_TA, _B], metric=\"MSV\", test_type='within')"
   ]
  },
  {
   "cell_type": "code",
   "execution_count": 19,
   "metadata": {},
   "outputs": [
    {
     "name": "stdout",
     "output_type": "stream",
     "text": [
      "Testing for TMT-A trial type\n",
      "Mean for Query 1: 0.212\n",
      "Mean for Query 2: 0.210\n",
      "Normality test passed.\n",
      "type 1 count:  8\n",
      "type 2 count:  11\n",
      "               T        dof alternative     p-val          CI95%   cohen-d  \\\n",
      "T-test  0.093676  16.153485   two-sided  0.926518  [-0.02, 0.03]  0.042736   \n",
      "\n",
      "         BF10     power  \n",
      "T-test  0.409  0.050865  \n",
      "No significant difference detected.\n",
      "Testing for TMT-B trial type\n",
      "Mean for Query 1: 0.211\n",
      "Mean for Query 2: 0.210\n",
      "Normality test passed.\n",
      "type 1 count:  7\n",
      "type 2 count:  11\n",
      "               T       dof alternative     p-val          CI95%   cohen-d  \\\n",
      "T-test -0.938158  11.71571   two-sided  0.367102  [-0.03, 0.01]  0.466923   \n",
      "\n",
      "         BF10    power  \n",
      "T-test  0.564  0.14863  \n",
      "No significant difference detected.\n",
      "Testing for top-down trial type\n",
      "Mean for Query 1: 0.192\n",
      "Mean for Query 2: 0.187\n",
      "Normality test passed.\n",
      "type 1 count:  8\n",
      "type 2 count:  11\n",
      "               T        dof alternative     p-val          CI95%   cohen-d  \\\n",
      "T-test  0.595334  11.881612   two-sided  0.562788  [-0.01, 0.03]  0.292712   \n",
      "\n",
      "         BF10     power  \n",
      "T-test  0.461  0.091451  \n",
      "No significant difference detected.\n",
      "Testing for bottom-up trial type\n",
      "Mean for Query 1: 0.202\n",
      "Mean for Query 2: 0.212\n",
      "Normality test passed.\n",
      "type 1 count:  8\n",
      "type 2 count:  11\n",
      "               T        dof alternative     p-val          CI95%   cohen-d  \\\n",
      "T-test -0.642968  12.226348   two-sided  0.532118  [-0.04, 0.02]  0.314268   \n",
      "\n",
      "         BF10     power  \n",
      "T-test  0.471  0.097911  \n",
      "No significant difference detected.\n",
      "Testing for spatial trial type\n",
      "Mean for Query 1: 0.223\n",
      "Mean for Query 2: 0.233\n",
      "Normality test passed.\n",
      "type 1 count:  8\n",
      "type 2 count:  10\n",
      "               T        dof alternative    p-val          CI95%   cohen-d  \\\n",
      "T-test -1.158974  13.560256   two-sided  0.26647  [-0.05, 0.01]  0.562306   \n",
      "\n",
      "         BF10     power  \n",
      "T-test  0.651  0.200168  \n",
      "No significant difference detected.\n"
     ]
    }
   ],
   "source": [
    "for trial_type in [_TA, _TB, _T, _B, _S]:\n",
    "    print(f\"Testing for {trial_type} trial type\")\n",
    "    test_attr(ALL_RESULT_DF, attr=\"ACS\", attr_values=[\"Good\", \"Poor\"], metric=\"MFD\", test_type='between', group=(\"Trial_Type\", trial_type))"
   ]
  },
  {
   "cell_type": "code",
   "execution_count": 20,
   "metadata": {},
   "outputs": [
    {
     "name": "stdout",
     "output_type": "stream",
     "text": [
      "Testing for TMT-A trial type\n",
      "Correlation between ACS and MFD for TMT-A:\n",
      "          n         r          CI95%     p-val   BF10     power\n",
      "pearson  19 -0.292646  [-0.66, 0.19]  0.224041  0.566  0.233896\n",
      "Testing for TMT-B trial type\n",
      "Correlation between ACS and MFD for TMT-B:\n",
      "          n        r          CI95%     p-val   BF10     power\n",
      "pearson  19 -0.41255  [-0.73, 0.05]  0.079201  1.194  0.434134\n",
      "Testing for top-down trial type\n",
      "Correlation between ACS and MFD for top-down:\n",
      "          n         r           CI95%     p-val   BF10     power\n",
      "pearson  19 -0.523771  [-0.79, -0.09]  0.021353  3.344  0.661908\n",
      "Testing for bottom-up trial type\n",
      "Correlation between ACS and MFD for bottom-up:\n",
      "          n         r          CI95%     p-val   BF10     power\n",
      "pearson  19 -0.115983  [-0.54, 0.36]  0.636329  0.315  0.075645\n",
      "Testing for spatial trial type\n",
      "Correlation between ACS and MFD for spatial:\n",
      "          n         r          CI95%     p-val   BF10     power\n",
      "pearson  19 -0.308788  [-0.67, 0.17]  0.198335  0.614  0.256597\n"
     ]
    }
   ],
   "source": [
    "for trial_type in [_TA, _TB, _T, _B, _S]:\n",
    "    print(f\"Testing for {trial_type} trial type\")\n",
    "    test_attr_corr(ALL_RESULT_DF_NUM, attr=\"ACS\", metric=\"MFD\", trial_type=trial_type)"
   ]
  },
  {
   "cell_type": "code",
   "execution_count": 60,
   "metadata": {},
   "outputs": [
    {
     "name": "stdout",
     "output_type": "stream",
     "text": [
      "Mean for Query 1: 2.737\n",
      "Mean for Query 2: 2.920\n",
      "     U-val alternative     p-val       RBC      CLES\n",
      "MWU   32.0   two-sided  0.065971  0.471074  0.264463\n",
      "No significant difference detected.\n"
     ]
    }
   ],
   "source": [
    "test_attr(ALL_RESULT_DF, attr=\"Trial_Type\", attr_values=[_TA, _T], metric=\"FR\", test_type='within', group=(\"ACS\", \"Poor\"))"
   ]
  },
  {
   "cell_type": "code",
   "execution_count": 19,
   "metadata": {},
   "outputs": [
    {
     "name": "stdout",
     "output_type": "stream",
     "text": [
      "Linear mixed model fit by REML [’lmerMod’]\n",
      "Formula: BR~Trial_Type*ACS+MotorSkill+(1|UserID)\n",
      "\n",
      "Family: gaussian\t Inference: parametric\n",
      "\n",
      "Number of observations: 95\t Groups: {'UserID': 19.0}\n",
      "\n",
      "Log-likelihood: 47.822 \t AIC: -69.644\n",
      "\n",
      "Random effects:\n",
      "\n",
      "                 Name    Var    Std\n",
      "UserID    (Intercept)  0.078  0.280\n",
      "Residual               0.004  0.066\n",
      "\n",
      "No random effect correlations specified\n",
      "\n",
      "Fixed effects:\n",
      "\n",
      "Linear mixed model fit by REML [’lmerMod’]\n",
      "Formula: BR~Trial_Type*ACS+MotorSkill+(1|UserID)\n",
      "\n",
      "Family: gaussian\t Inference: parametric\n",
      "\n",
      "Number of observations: 95\t Groups: {'UserID': 19.0}\n",
      "\n",
      "Log-likelihood: 47.822 \t AIC: -69.644\n",
      "\n",
      "Random effects:\n",
      "\n",
      "                 Name    Var    Std\n",
      "UserID    (Intercept)  0.078  0.280\n",
      "Residual               0.004  0.066\n",
      "\n",
      "No random effect correlations specified\n",
      "\n",
      "Fixed effects:\n",
      "\n",
      "                         Estimate  2.5_ci  97.5_ci     SE      DF  T-stat  \\\n",
      "(Intercept)                 0.378  -0.894    1.649  0.649  16.304   0.582   \n",
      "Trial_TypeBottom-Up        -0.340  -0.535   -0.146  0.099  68.000  -3.426   \n",
      "Trial_TypeNeutral          -0.174  -0.368    0.021  0.099  68.000  -1.748   \n",
      "Trial_TypeSpatial          -0.178  -0.373    0.017  0.099  68.000  -1.794   \n",
      "Trial_TypeTop-Down         -0.279  -0.474   -0.085  0.099  68.000  -2.812   \n",
      "ACS                         0.002  -0.015    0.018  0.008  17.305   0.211   \n",
      "MotorSkill                 -0.049  -1.000    0.902  0.485  16.000  -0.101   \n",
      "Trial_TypeBottom-Up:ACS     0.009   0.004    0.014  0.003  68.000   3.304   \n",
      "Trial_TypeNeutral:ACS       0.004  -0.001    0.009  0.003  68.000   1.412   \n",
      "Trial_TypeSpatial:ACS       0.004  -0.001    0.009  0.003  68.000   1.511   \n",
      "Trial_TypeTop-Down:ACS      0.007   0.002    0.012  0.003  68.000   2.697   \n",
      "\n",
      "                         P-val Sig  \n",
      "(Intercept)              0.569      \n",
      "Trial_TypeBottom-Up      0.001  **  \n",
      "Trial_TypeNeutral        0.085   .  \n",
      "Trial_TypeSpatial        0.077   .  \n",
      "Trial_TypeTop-Down       0.006  **  \n",
      "ACS                      0.836      \n",
      "MotorSkill               0.921      \n",
      "Trial_TypeBottom-Up:ACS  0.002  **  \n",
      "Trial_TypeNeutral:ACS    0.162      \n",
      "Trial_TypeSpatial:ACS    0.135      \n",
      "Trial_TypeTop-Down:ACS   0.009  **  \n"
     ]
    },
    {
     "name": "stderr",
     "output_type": "stream",
     "text": [
      "C:\\Users\\zhhqu\\AppData\\Local\\Temp\\ipykernel_2676\\3669164363.py:11: SettingWithCopyWarning: \n",
      "A value is trying to be set on a copy of a slice from a DataFrame.\n",
      "Try using .loc[row_indexer,col_indexer] = value instead\n",
      "\n",
      "See the caveats in the documentation: https://pandas.pydata.org/pandas-docs/stable/user_guide/indexing.html#returning-a-view-versus-a-copy\n",
      "  df[\"Trial_Type\"] = df[\"Trial_Type\"].replace({_TA: \"A\", _T: \"Top-Down\", _B: \"Bottom-Up\", _S: \"Spatial\", _N: \"Neutral\"})\n"
     ]
    }
   ],
   "source": [
    "import os\n",
    "os.environ[\"R_HOME\"] = \"D:\\\\Coding\\\\Anaconda\\\\envs\\\\sudoku\\\\Lib\\\\R\"\n",
    "from pymer4.models import Lmer, Lm\n",
    "\n",
    "def fit_big_model(attr=\"MFD\"):\n",
    "    # exclude Trial_Type == \"Neutral\"\n",
    "    # df = ALL_RESULT_DF[ALL_RESULT_DF[\"Trial_Type\"] != _N]\n",
    "    # exclude Trial_Type == \"TMT-B\" and \"Neutral\" \n",
    "    df = ALL_RESULT_DF_NUM[ALL_RESULT_DF_NUM[\"Trial_Type\"].isin([_TA, _T, _N, _B, _S])]\n",
    "    # rename TMT-A to A\n",
    "    df[\"Trial_Type\"] = df[\"Trial_Type\"].replace({_TA: \"A\", _T: \"Top-Down\", _B: \"Bottom-Up\", _S: \"Spatial\", _N: \"Neutral\"})\n",
    "    model = Lmer(f\"{attr} ~ Trial_Type * ACS + MotorSkill + (1|UserID)\", data=df)\n",
    "    # model = Lm(f\"{attr} ~ Trial_Type * ACS + MotorSkill\", data=df)\n",
    "\n",
    "    # model.fit(factors={\"Trial_Type\": [_TA, _TB, _B, _S, _T]})\n",
    "\n",
    "    model.fit()\n",
    "    print(model.summary())\n",
    "    # add anova\n",
    "    # anova = model.anova()\n",
    "    # print(anova)\n",
    "\n",
    "fit_big_model(\"BR\")\n"
   ]
  },
  {
   "cell_type": "code",
   "execution_count": 14,
   "metadata": {},
   "outputs": [
    {
     "name": "stdout",
     "output_type": "stream",
     "text": [
      "Formula: CompletionTime~ACS+MotorSkill\n",
      "\n",
      "Family: gaussian\t Estimator: OLS\n",
      "\n",
      "Std-errors: non-robust\tCIs: standard 95%\tInference: parametric \n",
      "\n",
      "Number of observations: 19\t R^2: 0.053\t R^2_adj: -0.065\n",
      "\n",
      "Log-likelihood: -83.388 \t AIC: 172.777\t BIC: 175.610\n",
      "\n",
      "Fixed effects:\n",
      "\n",
      "Formula: CompletionTime~ACS+MotorSkill\n",
      "\n",
      "Family: gaussian\t Estimator: OLS\n",
      "\n",
      "Std-errors: non-robust\tCIs: standard 95%\tInference: parametric \n",
      "\n",
      "Number of observations: 19\t R^2: 0.053\t R^2_adj: -0.065\n",
      "\n",
      "Log-likelihood: -83.388 \t AIC: 172.777\t BIC: 175.610\n",
      "\n",
      "Fixed effects:\n",
      "\n",
      "            Estimate  2.5_ci  97.5_ci      SE  DF  T-stat  P-val Sig\n",
      "Intercept     98.720  -4.735  202.174  48.801  16   2.023  0.060   .\n",
      "ACS           -0.326  -1.644    0.991   0.622  16  -0.525  0.607    \n",
      "MotorSkill    22.161 -55.538   99.860  36.652  16   0.605  0.554    \n"
     ]
    }
   ],
   "source": [
    "def fit_small_model(attr=\"MFD\", trial_type=_TA):\n",
    "    # exclude Trial_Type == \"Neutral\"\n",
    "    # df = ALL_RESULT_DF[ALL_RESULT_DF[\"Trial_Type\"] != _N]\n",
    "    # exclude Trial_Type == \"TMT-B\" and \"Neutral\" \n",
    "    df = ALL_RESULT_DF_NUM[ALL_RESULT_DF_NUM[\"Trial_Type\"].isin([trial_type])]\n",
    "    # rename TMT-A to A\n",
    "    model = Lm(f\"{attr} ~ ACS + MotorSkill\", data=df)\n",
    "    # model.fit(factors={\"Trial_Type\": [_TA, _TB, _B, _S, _T]})\n",
    "\n",
    "    model.fit()\n",
    "    print(model.summary())\n",
    "\n",
    "\n",
    "fit_small_model(\"CompletionTime\", trial_type=_S)"
   ]
  },
  {
   "cell_type": "code",
   "execution_count": null,
   "metadata": {},
   "outputs": [
    {
     "name": "stdout",
     "output_type": "stream",
     "text": [
      "Linear mixed model fit by REML [’lmerMod’]\n",
      "Formula: B~Incident+Detection+(1|UserID)\n",
      "\n",
      "Family: gaussian\t Inference: parametric\n",
      "\n",
      "Number of observations: 60\t Groups: {'UserID': 30.0}\n",
      "\n",
      "Log-likelihood: -28.728 \t AIC: 67.456\n",
      "\n",
      "Random effects:\n",
      "\n",
      "                 Name    Var    Std\n",
      "UserID    (Intercept)  0.046  0.215\n",
      "Residual               0.098  0.313\n",
      "\n",
      "No random effect correlations specified\n",
      "\n",
      "Fixed effects:\n",
      "\n",
      "Linear mixed model fit by REML [’lmerMod’]\n",
      "Formula: B~Incident+Detection+(1|UserID)\n",
      "\n",
      "Family: gaussian\t Inference: parametric\n",
      "\n",
      "Number of observations: 60\t Groups: {'UserID': 30.0}\n",
      "\n",
      "Log-likelihood: -28.728 \t AIC: 67.456\n",
      "\n",
      "Random effects:\n",
      "\n",
      "                 Name    Var    Std\n",
      "UserID    (Intercept)  0.046  0.215\n",
      "Residual               0.098  0.313\n",
      "\n",
      "No random effect correlations specified\n",
      "\n",
      "Fixed effects:\n",
      "\n",
      "                  Estimate  2.5_ci  97.5_ci     SE      DF  T-stat  P-val  Sig\n",
      "(Intercept)          0.189  -0.007    0.384  0.100  55.191   1.889  0.064    .\n",
      "Incidentvomiting     0.030  -0.133    0.193  0.083  30.144   0.361  0.721     \n",
      "Detection            0.500   0.298    0.701  0.103  56.866   4.861  0.000  ***\n"
     ]
    }
   ],
   "source": [
    "METRIC = \"Before_Recognition\"    \n",
    "ATTR = \"RFR\"\n",
    "# upper case of the first letter of all words in METRIC\n",
    "METRIC_ABBR = \"\".join([word[0].upper() for word in METRIC.split()])\n",
    "\n",
    "df_merged_time = pd.read_csv(f\"D:\\\\Research\\\\I3T\\\\Projects\\\\CPR\\\\CPR_SA\\\\gaze_extraction\\\\results\\\\period_21s/cleaned\\\\{ATTR}.csv\")\n",
    "df_merged_time = df_merged_time[df_merged_time[\"UserID\"].isin(PARTICIPANTS)]\n",
    "df_merged_time = df_merged_time[df_merged_time[\"Incident\"] != '-1']\n",
    "df_merged_time = floor_and_ceiling_of_detection(df_merged_time, 0.5)\n",
    "df_new = df_merged_time.copy()[[\"UserID\", \"Incident\", \"Detection\", METRIC]]\n",
    "df_new = df_new.rename(columns={METRIC: METRIC_ABBR})\n",
    "\n",
    "# change \"N\" to \"A\", \"An\" to \"B\", \"AnA\" to \"C\"\n",
    "import os\n",
    "os.environ[\"R_HOME\"] = \"D:\\\\Coding\\\\Anaconda\\\\envs\\\\sudoku\\\\Lib\\\\R\"\n",
    "\n",
    "from pymer4.models import Lmer, Lm\n",
    "\n",
    "model = Lmer(f\"{METRIC_ABBR} ~ Incident + Detection + (1|UserID)\", data=df_new)\n",
    "model.fit()\n",
    "print(model.summary())\n",
    "\n",
    "# model = Lmer(f\"{METRIC_ABBR} ~ Incident * Detection + (1|UserID)\", data=df_new)\n",
    "# model.fit(factors={\"Incident\": [\"bleeding\", \"vomiting\"], \"Detection\": ['0', '1']})\n",
    "# # print(model.summary())\n",
    "\n",
    "# anova_table = model.anova()\n",
    "# anova_table[\"np2\"] = anova_table[\"SS\"] / (anova_table[\"SS\"] + sum(model.residuals ** 2))\n",
    "# print(anova_table)"
   ]
  },
  {
   "cell_type": "code",
   "execution_count": 12,
   "metadata": {},
   "outputs": [
    {
     "name": "stdout",
     "output_type": "stream",
     "text": [
      "Detection stats for bleeding:\n",
      "Detection\n",
      "1    21\n",
      "0     9\n",
      "Name: count, dtype: int64\n",
      "Detection stats for vomiting:\n",
      "Detection\n",
      "0    15\n",
      "1    15\n",
      "Name: count, dtype: int64\n",
      "Correlation: -0.266\n",
      "Mean for Detection 1: 0.607\n",
      "Mean for Detection 0: 0.908\n",
      "Normality test for Detection 1:  False\n",
      "Normality test for Detection 0:  False\n",
      "     U-val alternative     p-val       RBC      CLES\n",
      "MWU  314.0   two-sided  0.076185  0.273148  0.363426\n",
      "No significant difference detected.\n"
     ]
    },
    {
     "data": {
      "image/png": "[encoded data removed]",
      "text/plain": [
       "<Figure size 640x480 with 1 Axes>"
      ]
     },
     "metadata": {},
     "output_type": "display_data"
    }
   ],
   "source": [
    "test_attr_detection_diff(\"BR\", 0.5, [BR], [_B, _V])\n",
    "# test_attr_event_diff(\"BR\", 0.5, [BR], [_B, _V])\n"
   ]
  },
  {
   "cell_type": "code",
   "execution_count": 3,
   "metadata": {},
   "outputs": [
    {
     "name": "stdout",
     "output_type": "stream",
     "text": [
      "Detection stats for bleeding:\n",
      "Detection\n",
      "1    21\n",
      "0     9\n",
      "Name: count, dtype: int64\n",
      "Detection stats for vomiting:\n",
      "Detection\n",
      "0    15\n",
      "1    15\n",
      "Name: count, dtype: int64\n",
      "Correlation: 0.491\n",
      "Mean for Detection 1: 9.361\n",
      "Mean for Detection 0: 6.163\n",
      "Normality test for Detection 1:  True\n",
      "Normality test for Detection 0:  False\n",
      "     U-val alternative     p-val      RBC      CLES\n",
      "MWU  700.0   two-sided  0.000054 -0.62037  0.810185\n",
      "Significant detected!\n"
     ]
    },
    {
     "data": {
      "image/png": "[encoded data removed]",
      "text/plain": [
       "<Figure size 640x480 with 1 Axes>"
      ]
     },
     "metadata": {},
     "output_type": "display_data"
    }
   ],
   "source": [
    "test_attr_detection_diff(\"MSA\", 0.5, [BR], [_B, _V])\n",
    "# test_attr_event_diff(\"MSA\", 0.5, [BR], [_B, _V])"
   ]
  },
  {
   "cell_type": "code",
   "execution_count": 4,
   "metadata": {},
   "outputs": [
    {
     "name": "stdout",
     "output_type": "stream",
     "text": [
      "Detection stats for bleeding:\n",
      "Detection\n",
      "1    21\n",
      "0     9\n",
      "Name: count, dtype: int64\n",
      "Detection stats for vomiting:\n",
      "Detection\n",
      "0    15\n",
      "1    15\n",
      "Name: count, dtype: int64\n",
      "Correlation: -0.094\n",
      "Mean for Detection 1: 1.628\n",
      "Mean for Detection 0: 1.740\n",
      "Normality test for Detection 1:  True\n",
      "Normality test for Detection 0:  True\n",
      "type 1 count:  36\n",
      "type 2 count:  24\n",
      "               T        dof alternative    p-val          CI95%   cohen-d  \\\n",
      "T-test -0.687767  42.457181   two-sided  0.49534  [-0.44, 0.21]  0.188798   \n",
      "\n",
      "         BF10     power  \n",
      "T-test  0.325  0.108534  \n",
      "No significant difference detected.\n"
     ]
    },
    {
     "data": {
      "image/png": "[encoded data removed]",
      "text/plain": [
       "<Figure size 640x480 with 1 Axes>"
      ]
     },
     "metadata": {},
     "output_type": "display_data"
    }
   ],
   "source": [
    "test_attr_detection_diff(\"FR\", 0.5, [BR], [_B, _V])\n",
    "# test_attr_event_diff(\"FR\", 0.5, [BR], [_B, _V])"
   ]
  },
  {
   "cell_type": "code",
   "execution_count": 11,
   "metadata": {},
   "outputs": [
    {
     "name": "stdout",
     "output_type": "stream",
     "text": [
      "Detection stats for bleeding:\n",
      "Detection\n",
      "1    21\n",
      "0     9\n",
      "Name: count, dtype: int64\n",
      "Detection stats for vomiting:\n",
      "Detection\n",
      "0    15\n",
      "1    15\n",
      "Name: count, dtype: int64\n",
      "Correlation: 0.128\n",
      "Mean for Detection 1: 0.563\n",
      "Mean for Detection 0: 0.348\n",
      "Normality test for Detection 1:  True\n",
      "Normality test for Detection 0:  True\n",
      "type 1 count:  36\n",
      "type 2 count:  23\n",
      "               T        dof alternative     p-val          CI95%   cohen-d  \\\n",
      "T-test  0.697791  53.829041   two-sided  0.488311  [-0.27, 0.55]  0.177602   \n",
      "\n",
      "        BF10     power  \n",
      "T-test  0.33  0.100286  \n",
      "No significant difference detected.\n"
     ]
    },
    {
     "data": {
      "image/png": "[encoded data removed]",
      "text/plain": [
       "<Figure size 640x480 with 1 Axes>"
      ]
     },
     "metadata": {},
     "output_type": "display_data"
    }
   ],
   "source": [
    "test_attr_detection_diff(\"MD\", 0.5, [BR], [_B, _V])"
   ]
  },
  {
   "cell_type": "code",
   "execution_count": 20,
   "metadata": {},
   "outputs": [
    {
     "name": "stdout",
     "output_type": "stream",
     "text": [
      "Correlation: 0.060\n",
      "Mean for Detection 1: 0.587\n",
      "Mean for Detection 0: 0.545\n",
      "Normality test for Detection 1:  False\n",
      "Normality test for Detection 0:  False\n",
      "     U-val alternative     p-val       RBC      CLES\n",
      "MWU  473.0   two-sided  0.541123 -0.094907  0.547454\n",
      "No significant difference detected.\n"
     ]
    },
    {
     "data": {
      "image/png": "[encoded data removed]",
      "text/plain": [
       "<Figure size 640x480 with 1 Axes>"
      ]
     },
     "metadata": {},
     "output_type": "display_data"
    }
   ],
   "source": [
    "test_attr_detection_diff(\"MFD\", 0.5, [BR], [_B, _V])"
   ]
  },
  {
   "cell_type": "code",
   "execution_count": 21,
   "metadata": {},
   "outputs": [
    {
     "name": "stdout",
     "output_type": "stream",
     "text": [
      "Correlation: 0.505\n",
      "Mean for Detection 1: 196.522\n",
      "Mean for Detection 0: 143.268\n",
      "Normality test for Detection 1:  True\n",
      "Normality test for Detection 0:  True\n",
      "type 1 count:  35\n",
      "type 2 count:  23\n",
      "             T        dof alternative     p-val           CI95%   cohen-d  \\\n",
      "T-test  5.4977  43.565027   two-sided  0.000002  [38.94, 84.03]  1.509508   \n",
      "\n",
      "             BF10     power  \n",
      "T-test  1.336e+04  0.999818  \n",
      "Significant detected!\n"
     ]
    },
    {
     "data": {
      "image/png": "[encoded data removed]",
      "text/plain": [
       "<Figure size 640x480 with 1 Axes>"
      ]
     },
     "metadata": {},
     "output_type": "display_data"
    }
   ],
   "source": [
    "test_attr_detection_diff(\"MPSV\", 0.5, [BR], [_B, _V])"
   ]
  },
  {
   "cell_type": "code",
   "execution_count": 22,
   "metadata": {},
   "outputs": [
    {
     "name": "stdout",
     "output_type": "stream",
     "text": [
      "Correlation: 0.483\n",
      "Mean for Detection 1: 144.504\n",
      "Mean for Detection 0: 111.792\n",
      "Normality test for Detection 1:  True\n",
      "Normality test for Detection 0:  True\n",
      "type 1 count:  35\n",
      "type 2 count:  24\n",
      "               T        dof alternative     p-val           CI95%   cohen-d  \\\n",
      "T-test  4.350581  38.109882   two-sided  0.000098  [18.59, 50.93]  1.230795   \n",
      "\n",
      "           BF10     power  \n",
      "T-test  360.668  0.995401  \n",
      "Significant detected!\n"
     ]
    },
    {
     "data": {
      "image/png": "[encoded data removed]",
      "text/plain": [
       "<Figure size 640x480 with 1 Axes>"
      ]
     },
     "metadata": {},
     "output_type": "display_data"
    }
   ],
   "source": [
    "test_attr_detection_diff(\"MSV\", 0.5, [BR], [_B, _V])"
   ]
  },
  {
   "cell_type": "code",
   "execution_count": 23,
   "metadata": {},
   "outputs": [
    {
     "name": "stdout",
     "output_type": "stream",
     "text": [
      "Correlation: 0.155\n",
      "Mean for Detection 1: 0.792\n",
      "Mean for Detection 0: 0.757\n",
      "Normality test for Detection 1:  True\n",
      "Normality test for Detection 0:  True\n",
      "type 1 count:  36\n",
      "type 2 count:  24\n",
      "             T        dof alternative    p-val         CI95%   cohen-d  BF10  \\\n",
      "T-test  1.1197  38.890478   two-sided  0.26971  [-0.03, 0.1]  0.314224  0.45   \n",
      "\n",
      "           power  \n",
      "T-test  0.216433  \n",
      "No significant difference detected.\n"
     ]
    },
    {
     "data": {
      "image/png": "[encoded data removed]",
      "text/plain": [
       "<Figure size 640x480 with 1 Axes>"
      ]
     },
     "metadata": {},
     "output_type": "display_data"
    }
   ],
   "source": [
    "test_attr_detection_diff(\"PFT\", 0.5, [BR], [_B, _V])"
   ]
  },
  {
   "cell_type": "code",
   "execution_count": 24,
   "metadata": {},
   "outputs": [
    {
     "name": "stdout",
     "output_type": "stream",
     "text": [
      "Correlation: 0.120\n",
      "Mean for Detection 1: 0.729\n",
      "Mean for Detection 0: 0.563\n",
      "Normality test for Detection 1:  False\n",
      "Normality test for Detection 0:  True\n",
      "     U-val alternative     p-val       RBC      CLES\n",
      "MWU  388.0   two-sided  0.511577  0.101852  0.449074\n",
      "No significant difference detected.\n"
     ]
    },
    {
     "data": {
      "image/png": "[encoded data removed]",
      "text/plain": [
       "<Figure size 640x480 with 1 Axes>"
      ]
     },
     "metadata": {},
     "output_type": "display_data"
    }
   ],
   "source": [
    "test_attr_detection_diff(\"VD\", 0.5, [BR], [_B, _V])"
   ]
  },
  {
   "cell_type": "code",
   "execution_count": 25,
   "metadata": {},
   "outputs": [
    {
     "name": "stdout",
     "output_type": "stream",
     "text": [
      "Correlation: 0.188\n",
      "Mean for Detection 1: 0.637\n",
      "Mean for Detection 0: 0.508\n",
      "Normality test for Detection 1:  True\n",
      "Normality test for Detection 0:  False\n",
      "     U-val alternative     p-val       RBC      CLES\n",
      "MWU  556.0   two-sided  0.062315 -0.287037  0.643519\n",
      "No significant difference detected.\n"
     ]
    },
    {
     "data": {
      "image/png": "[encoded data removed]",
      "text/plain": [
       "<Figure size 640x480 with 1 Axes>"
      ]
     },
     "metadata": {},
     "output_type": "display_data"
    }
   ],
   "source": [
    "test_attr_detection_diff(\"RMFD\", 0.5, [BR], [_B, _V])"
   ]
  },
  {
   "cell_type": "code",
   "execution_count": 5,
   "metadata": {},
   "outputs": [
    {
     "name": "stdout",
     "output_type": "stream",
     "text": [
      "Detection stats for bleeding:\n",
      "Detection\n",
      "1    21\n",
      "0     9\n",
      "Name: count, dtype: int64\n",
      "Detection stats for vomiting:\n",
      "Detection\n",
      "0    15\n",
      "1    15\n",
      "Name: count, dtype: int64\n",
      "Correlation: 0.426\n",
      "Mean for Detection 1: 1.229\n",
      "Mean for Detection 0: 1.051\n",
      "Normality test for Detection 1:  True\n",
      "Normality test for Detection 0:  False\n",
      "     U-val alternative     p-val       RBC      CLES\n",
      "MWU  701.0   two-sided  0.000051 -0.622685  0.811343\n",
      "Significant detected!\n"
     ]
    },
    {
     "data": {
      "image/png": "[encoded data removed]",
      "text/plain": [
       "<Figure size 640x480 with 1 Axes>"
      ]
     },
     "metadata": {},
     "output_type": "display_data"
    }
   ],
   "source": [
    "test_attr_detection_diff(\"VMFD\", 0.5, [BR], [_B, _V])\n"
   ]
  },
  {
   "cell_type": "code",
   "execution_count": 27,
   "metadata": {},
   "outputs": [
    {
     "name": "stdout",
     "output_type": "stream",
     "text": [
      "Correlation: -0.538\n",
      "Mean for Detection 1: 0.925\n",
      "Mean for Detection 0: 1.539\n",
      "Normality test for Detection 1:  True\n",
      "Normality test for Detection 0:  True\n",
      "type 1 count:  36\n",
      "type 2 count:  24\n",
      "               T        dof alternative     p-val          CI95%   cohen-d  \\\n",
      "T-test -4.371746  32.946072   two-sided  0.000116  [-0.9, -0.33]  1.279394   \n",
      "\n",
      "           BF10     power  \n",
      "T-test  391.364  0.997548  \n",
      "Significant detected!\n"
     ]
    },
    {
     "data": {
      "image/png": "[encoded data removed]",
      "text/plain": [
       "<Figure size 640x480 with 1 Axes>"
      ]
     },
     "metadata": {},
     "output_type": "display_data"
    }
   ],
   "source": [
    "test_attr_detection_diff(\"VFR\", 0.5, [BR], [_B, _V])\n",
    "# test_attr_event_diff(\"VFR\", 0.5, [BR], [_B, _V])\n"
   ]
  },
  {
   "cell_type": "code",
   "execution_count": 28,
   "metadata": {},
   "outputs": [
    {
     "name": "stdout",
     "output_type": "stream",
     "text": [
      "Correlation: 0.547\n",
      "Mean for Detection 1: 0.703\n",
      "Mean for Detection 0: 0.201\n",
      "Normality test for Detection 1:  True\n",
      "Normality test for Detection 0:  False\n",
      "     U-val alternative     p-val       RBC      CLES\n",
      "MWU  739.5   two-sided  0.000004 -0.711806  0.855903\n",
      "Significant detected!\n"
     ]
    },
    {
     "data": {
      "image/png": "[encoded data removed]",
      "text/plain": [
       "<Figure size 640x480 with 1 Axes>"
      ]
     },
     "metadata": {},
     "output_type": "display_data"
    }
   ],
   "source": [
    "test_attr_detection_diff(\"RFR\", 0.5, [BR], [_B, _V])\n",
    "# the most likely to be different "
   ]
  },
  {
   "cell_type": "code",
   "execution_count": 29,
   "metadata": {},
   "outputs": [
    {
     "name": "stdout",
     "output_type": "stream",
     "text": [
      "Correlation: 0.550\n",
      "Mean for Detection 1: 0.291\n",
      "Mean for Detection 0: 0.077\n",
      "Normality test for Detection 1:  True\n",
      "Normality test for Detection 0:  False\n",
      "     U-val alternative     p-val       RBC      CLES\n",
      "MWU  724.0   two-sided  0.000011 -0.675926  0.837963\n",
      "Significant detected!\n"
     ]
    },
    {
     "data": {
      "image/png": "[encoded data removed]",
      "text/plain": [
       "<Figure size 640x480 with 1 Axes>"
      ]
     },
     "metadata": {},
     "output_type": "display_data"
    }
   ],
   "source": [
    "test_attr_detection_diff(\"PFR\", 0.5, [BR], [_B, _V])\n"
   ]
  },
  {
   "cell_type": "code",
   "execution_count": 30,
   "metadata": {},
   "outputs": [
    {
     "name": "stdout",
     "output_type": "stream",
     "text": [
      "Correlation: -0.550\n",
      "Mean for Detection 1: 0.709\n",
      "Mean for Detection 0: 0.923\n",
      "Normality test for Detection 1:  True\n",
      "Normality test for Detection 0:  False\n",
      "     U-val alternative     p-val       RBC      CLES\n",
      "MWU  140.0   two-sided  0.000011  0.675926  0.162037\n",
      "Significant detected!\n"
     ]
    },
    {
     "data": {
      "image/png": "[encoded data removed]",
      "text/plain": [
       "<Figure size 640x480 with 1 Axes>"
      ]
     },
     "metadata": {},
     "output_type": "display_data"
    }
   ],
   "source": [
    "test_attr_detection_diff(\"PFV\", 0.5, [BR], [_B, _V])\n"
   ]
  }
 ],
 "metadata": {
  "kernelspec": {
   "display_name": "sudoku",
   "language": "python",
   "name": "python3"
  },
  "language_info": {
   "codemirror_mode": {
    "name": "ipython",
    "version": 3
   },
   "file_extension": ".py",
   "mimetype": "text/x-python",
   "name": "python",
   "nbconvert_exporter": "python",
   "pygments_lexer": "ipython3",
   "version": "3.9.19"
  }
 },
 "nbformat": 4,
 "nbformat_minor": 2
}
